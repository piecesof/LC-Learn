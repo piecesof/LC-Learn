{
 "cells": [
  {
   "cell_type": "code",
   "execution_count": 1,
   "metadata": {
    "collapsed": false,
    "jupyter": {
     "outputs_hidden": false
    },
    "pycharm": {
     "name": "#%%\n"
    }
   },
   "outputs": [
    {
     "data": {
      "text/plain": [
       "'ReAct 是一种语言模型方法，它结合了推理和行动（reasoning and acting），旨在通过与简单维基百科 API 的交互来生成比基线模型更具解释性的任务解决轨迹。这种方法在 ICRL 2023 上发表，并且展示了相对于最先进的基线模型的有效性，同时提高了人类的可解释性和可信度。'"
      ]
     },
     "execution_count": 1,
     "metadata": {},
     "output_type": "execute_result"
    }
   ],
   "source": [
    "from operator import itemgetter\n",
    "\n",
    "from langchain_core.prompts import ChatPromptTemplate, PromptTemplate, format_document\n",
    "from langchain_core.output_parsers import StrOutputParser\n",
    "from langchain_core.runnables import RunnablePassthrough, RunnableLambda\n",
    "from langchain_community.chat_models import ChatOllama\n",
    "from langchain_community.embeddings import OllamaEmbeddings\n",
    "from langchain_community.vectorstores.faiss import FAISS\n",
    "from langchain_community.document_loaders import ArxivLoader\n",
    "from langchain.text_splitter import RecursiveCharacterTextSplitter\n",
    "\n",
    "# 加载arXiv上的论文ReAct: Synergizing Reasoning and Acting in Language Models\n",
    "loader = ArxivLoader(query = \"2210.03629\", load_max_docs = 1)\n",
    "docs = loader.load()\n",
    "\n",
    "# 把文本分割成200个字符为一组的片段\n",
    "text_spliter = RecursiveCharacterTextSplitter(chunk_size=200, chunk_overlap=20)\n",
    "chunks = text_spliter.split_documents(docs)\n",
    "\n",
    "# 构建FAISS向量存储和对应的Retriever\n",
    "vs = FAISS.from_documents(chunks[:10], OllamaEmbeddings(model = 'qwen2.5'))\n",
    "# vs.similarity_search('What is ReAct')\n",
    "retriever = vs.as_retriever()\n",
    "\n",
    "# 构建Document转文本段落的工具函数\n",
    "# （prompt中是字符串，所以需要将document转换为字符串，前4-1至4-3同理）\n",
    "DEFAULT_DOCUMENT_PROMPT = PromptTemplate.from_template(template='{page_content}')\n",
    "def _combine_documents(\n",
    "   docs, document_prompt = DEFAULT_DOCUMENT_PROMPT, document_separator = '\\n\\n'\n",
    "):\n",
    "    doc_strings = [format_document(doc, document_prompt) for doc in docs]\n",
    "    return document_separator.join(doc_strings)\n",
    "\n",
    "# 准备Model I/O三元组\n",
    "template = \"\"\"Answer the question based only on the following context:\n",
    "{context}\n",
    "\n",
    "Question: {question}\n",
    "\"\"\"\n",
    "prompt = ChatPromptTemplate.from_template(template)\n",
    "model = ChatOllama(model = 'qwen2.5')\n",
    "\n",
    "# 构建RAG链\n",
    "chain = (\n",
    "    {\n",
    "        'context': retriever | _combine_documents,\n",
    "        'question': RunnablePassthrough()\n",
    "    }\n",
    "    | prompt\n",
    "    | model\n",
    "    | StrOutputParser()\n",
    ")\n",
    "\n",
    "chain.invoke('什么是ReAct？')"
   ]
  },
  {
   "cell_type": "code",
   "execution_count": null,
   "metadata": {
    "collapsed": false,
    "jupyter": {
     "outputs_hidden": false
    },
    "pycharm": {
     "name": "#%%\n"
    }
   },
   "outputs": [],
   "source": []
  }
 ],
 "metadata": {
  "kernelspec": {
   "display_name": "Test1",
   "language": "python",
   "name": "test1"
  },
  "language_info": {
   "codemirror_mode": {
    "name": "ipython",
    "version": 3
   },
   "file_extension": ".py",
   "mimetype": "text/x-python",
   "name": "python",
   "nbconvert_exporter": "python",
   "pygments_lexer": "ipython3",
   "version": "3.8.20"
  }
 },
 "nbformat": 4,
 "nbformat_minor": 4
}