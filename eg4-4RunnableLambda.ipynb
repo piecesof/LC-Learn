{
 "cells": [
  {
   "cell_type": "code",
   "execution_count": null,
   "metadata": {
    "collapsed": false,
    "jupyter": {
     "outputs_hidden": false
    },
    "pycharm": {
     "is_executing": true,
     "name": "#%%\n"
    }
   },
   "outputs": [],
   "source": [
    "from operator import itemgetter\n",
    "\n",
    "from langchain_core.runnables import RunnableLambda\n",
    "from langchain_core.prompts import ChatPromptTemplate\n",
    "from langchain_community.chat_models import ChatOllama\n",
    "\n",
    "# 具有单个参数的函数可以直接被RunnableLambda封装\n",
    "def length_function(text):\n",
    "    return len(text)\n",
    "\n",
    "# 具有多个参数的函数需要先被封装成具有单个参数的函数，再传递给RunnableLambda\n",
    "def _multiple_length_function(text1, text2):\n",
    "    return len(text1) * len(text2)\n",
    "\n",
    "def multiple_length_function(_dict):\n",
    "    return _multiple_length_function(_dict['text1'], _dict['text2'])\n",
    "\n",
    "prompt = ChatPromptTemplate.from_template('what is {a} + {b}')\n",
    "model = ChatOllama(model = 'qwen2.5')\n",
    "\n",
    "chain1 = prompt | model\n",
    "\n",
    "chain = (\n",
    "    {\n",
    "        'a': itemgetter('foo') | RunnableLambda(length_function),\n",
    "        'b': {'text1': itemgetter('foo'), 'text2': itemgetter('bar')}\n",
    "        | RunnableLambda(multiple_length_function),\n",
    "    }\n",
    "    | prompt\n",
    "    | model\n",
    ")\n",
    "\n",
    "chain.invoke({'foo': 'bar', 'bar': 'gah'})"
   ]
  },
  {
   "cell_type": "code",
   "execution_count": 1,
   "metadata": {
    "collapsed": false,
    "jupyter": {
     "outputs_hidden": false
    },
    "pycharm": {
     "name": "#%%\n"
    }
   },
   "outputs": [
    {
     "data": {
      "text/plain": [
       "2"
      ]
     },
     "execution_count": 1,
     "metadata": {},
     "output_type": "execute_result"
    }
   ],
   "source": [
    "from langchain_core.runnables import RunnableLambda\n",
    "\n",
    "def add_one(x: int):\n",
    "    return x + 1\n",
    "\n",
    "runnable = RunnableLambda(add_one)\n",
    "\n",
    "# 同步\n",
    "runnable.invoke(1)   # 返回2\n",
    "runnable.batch([1, 2, 3])   # 返回[2，3，4]\n",
    "\n",
    "# 异步\n",
    "# 在默认情况下，通过调用同步函数实现来支持异步调用\n",
    "await runnable.ainvoke(1)\n",
    "await runnable.abatch([1, 2, 3])\n",
    "\n",
    "# 同时准备同步和异步函数实现，由RunnableLambda一同封装，按需使用\n",
    "async def add_one_async(x: int):\n",
    "    return x + 1\n",
    "\n",
    "runnable = RunnableLambda(add_one, afunc = add_one_async)\n",
    "\n",
    "runnable.invoke(1)   # 使用 add_one\n",
    "await runnable.ainvoke(1)   # 使用 add_one_async"
   ]
  },
  {
   "cell_type": "code",
   "execution_count": null,
   "metadata": {
    "collapsed": false,
    "jupyter": {
     "outputs_hidden": false
    },
    "pycharm": {
     "name": "#%%\n"
    }
   },
   "outputs": [],
   "source": []
  }
 ],
 "metadata": {
  "kernelspec": {
   "display_name": "Test1",
   "language": "python",
   "name": "test1"
  },
  "language_info": {
   "codemirror_mode": {
    "name": "ipython",
    "version": 3
   },
   "file_extension": ".py",
   "mimetype": "text/x-python",
   "name": "python",
   "nbconvert_exporter": "python",
   "pygments_lexer": "ipython3",
   "version": "3.8.20"
  }
 },
 "nbformat": 4,
 "nbformat_minor": 4
}