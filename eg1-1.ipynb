{
 "cells": [
  {
   "cell_type": "code",
   "execution_count": 1,
   "metadata": {
    "collapsed": false,
    "jupyter": {
     "outputs_hidden": false
    },
    "pycharm": {
     "is_executing": true,
     "name": "#%%\n"
    }
   },
   "outputs": [
    {
     "name": "stderr",
     "output_type": "stream",
     "text": [
      "C:\\Users\\24085\\AppData\\Local\\Temp\\ipykernel_19680\\2676917630.py:5: DeprecationWarning: callback_manager is deprecated. Please use callbacks instead.\n",
      "  llm = Ollama(\n",
      "C:\\Users\\24085\\AppData\\Local\\Temp\\ipykernel_19680\\2676917630.py:10: LangChainDeprecationWarning: The method `BaseLLM.__call__` was deprecated in langchain-core 0.1.7 and will be removed in 1.0. Use invoke instead.\n",
      "  llm(\"请告诉我关于AI的历史\")\n"
     ]
    },
    {
     "name": "stdout",
     "output_type": "stream",
     "text": [
      "人工智能（Artificial Intelligence，简称AI）的发展历史可以追溯到20世纪50年代，它经历了多个阶段，并取得了显著的进展。以下是一些重要的里程碑：\n",
      "\n",
      "### 1. 起源与早期发展 (20世纪40-60年代)\n",
      "- **1936年**：阿兰·图灵提出了一种可以解决“图灵测试”的机器概念，这是现代计算机科学的基础。\n",
      "- **1950年**：阿兰·图灵发表了论文《计算机器与智能》，首次提出了人工智能的概念，并提出了著名的“图灵测试”。\n",
      "- **1956年**：达特茅斯会议被认为是AI领域的正式诞生地。在会上，约翰·麦卡锡等人首次使用了“人工智能”这个术语。\n",
      "\n",
      "### 2. 知识时代 (20世纪70年代)\n",
      "- 这一时期的主要特点是对知识表示和推理的研究。\n",
      "- **1974年**：由于资源限制和技术限制，AI进入了所谓的第一次低谷。\n",
      "- **1980年**：专家系统开始流行起来。\n",
      "\n",
      "### 3. 网络时代 (20世纪90年代)\n",
      "- 这一时期见证了互联网的兴起和数据量的激增。\n",
      "- **1997年**：IBM的深蓝计算机击败了国际象棋世界冠军加里·卡斯帕罗夫，这是人工智能的一个重要胜利。\n",
      "\n",
      "### 4. 大数据与深度学习 (20世纪末至今)\n",
      "- 在21世纪初，随着计算能力的大幅提升和大数据技术的发展，AI迎来了新的发展高潮。\n",
      "- **2012年**：AlexNet在ImageNet图像识别竞赛中取得显著成绩，开启了深度学习时代。\n",
      "- **2016年**：谷歌AlphaGo以4比1战胜韩国围棋高手李世石，这标志着机器学习和人工智能进入了一个新的阶段。\n",
      "\n",
      "### 5. 当前与未来 (21世纪)\n",
      "- AI已经广泛应用于各个领域，包括自动驾驶、医疗诊断、金融分析等。\n",
      "- **近期研究**：强化学习、自然语言处理、人机交互等方面取得了显著进展。同时，对AI伦理和社会影响的关注也在不断增加。\n",
      "\n",
      "这只是人工智能发展历程的一个简要概述。随着时间的推移和科技的进步，AI将继续发展并为人类社会带来更多变革和创新。"
     ]
    },
    {
     "data": {
      "text/plain": [
       "'人工智能（Artificial Intelligence，简称AI）的发展历史可以追溯到20世纪50年代，它经历了多个阶段，并取得了显著的进展。以下是一些重要的里程碑：\\n\\n### 1. 起源与早期发展 (20世纪40-60年代)\\n- **1936年**：阿兰·图灵提出了一种可以解决“图灵测试”的机器概念，这是现代计算机科学的基础。\\n- **1950年**：阿兰·图灵发表了论文《计算机器与智能》，首次提出了人工智能的概念，并提出了著名的“图灵测试”。\\n- **1956年**：达特茅斯会议被认为是AI领域的正式诞生地。在会上，约翰·麦卡锡等人首次使用了“人工智能”这个术语。\\n\\n### 2. 知识时代 (20世纪70年代)\\n- 这一时期的主要特点是对知识表示和推理的研究。\\n- **1974年**：由于资源限制和技术限制，AI进入了所谓的第一次低谷。\\n- **1980年**：专家系统开始流行起来。\\n\\n### 3. 网络时代 (20世纪90年代)\\n- 这一时期见证了互联网的兴起和数据量的激增。\\n- **1997年**：IBM的深蓝计算机击败了国际象棋世界冠军加里·卡斯帕罗夫，这是人工智能的一个重要胜利。\\n\\n### 4. 大数据与深度学习 (20世纪末至今)\\n- 在21世纪初，随着计算能力的大幅提升和大数据技术的发展，AI迎来了新的发展高潮。\\n- **2012年**：AlexNet在ImageNet图像识别竞赛中取得显著成绩，开启了深度学习时代。\\n- **2016年**：谷歌AlphaGo以4比1战胜韩国围棋高手李世石，这标志着机器学习和人工智能进入了一个新的阶段。\\n\\n### 5. 当前与未来 (21世纪)\\n- AI已经广泛应用于各个领域，包括自动驾驶、医疗诊断、金融分析等。\\n- **近期研究**：强化学习、自然语言处理、人机交互等方面取得了显著进展。同时，对AI伦理和社会影响的关注也在不断增加。\\n\\n这只是人工智能发展历程的一个简要概述。随着时间的推移和科技的进步，AI将继续发展并为人类社会带来更多变革和创新。'"
      ]
     },
     "execution_count": 1,
     "metadata": {},
     "output_type": "execute_result"
    }
   ],
   "source": [
    "from langchain_core.callbacks.manager import CallbackManager\n",
    "from langchain_core.callbacks.streaming_stdout import StreamingStdOutCallbackHandler\n",
    "from langchain_community.llms import Ollama\n",
    "\n",
    "llm = Ollama(\n",
    "    model = \"qwen2.5\", callback_manager = CallbackManager(\n",
    "        [StreamingStdOutCallbackHandler()]\n",
    "    )\n",
    ")\n",
    "llm(\"请告诉我关于AI的历史\")"
   ]
  },
  {
   "cell_type": "code",
   "execution_count": 2,
   "metadata": {
    "collapsed": false,
    "jupyter": {
     "outputs_hidden": false
    },
    "pycharm": {
     "name": "#%%\n"
    }
   },
   "outputs": [
    {
     "name": "stdout",
     "output_type": "stream",
     "text": [
      "当然，我很乐意给你分享一些关于《小猪佩奇》的故事。\n",
      "\n",
      "《小猪佩奇》是一部广受欢迎的英国动画片，讲述了一个可爱的小家庭——佩奇一家的生活故事。佩奇是一只小猪，她是爸爸乔治、妈妈珍妮和哥哥乔治三人的宝贝女儿。除此之外，还有一家人的宠物狗迪克和猫咪玛吉，他们一起在充满欢笑与冒险的生活中学习成长。\n",
      "\n",
      "这里有一个简单的故事示例：\n",
      "\n",
      "一天早晨，佩奇和她的小伙伴们计划一起去沼泽地探险，但他们的爸爸乔治却告诉他们沼泽地是危险的地方。虽然有些失望，但是佩奇和小伙伴们的热情并没有因此而减退，他们准备好了雨靴、防晒霜等装备，在爸爸妈妈的陪伴下开始了这次冒险之旅。\n",
      "\n",
      "在沼泽地里，佩奇帮助她的小伙伴们一起抓了许多有趣的昆虫，并且用树枝做了一个滑梯，大家一起享受着游戏的乐趣。当他们返回家的时候，每个人都带着满满的收获和愉快的心情回到了家，这一天对他们来说是既有趣又有意义的一天。\n",
      "\n",
      "小猪佩奇的故事总是充满了欢笑、友谊和家庭的温暖，每一集都讲述着孩子们成长中的小小冒险和快乐时光。这些故事教育孩子要勇敢、善良、坚持自己的梦想，并且珍惜与家人朋友共度的美好时光。"
     ]
    },
    {
     "data": {
      "text/plain": [
       "'当然，我很乐意给你分享一些关于《小猪佩奇》的故事。\\n\\n《小猪佩奇》是一部广受欢迎的英国动画片，讲述了一个可爱的小家庭——佩奇一家的生活故事。佩奇是一只小猪，她是爸爸乔治、妈妈珍妮和哥哥乔治三人的宝贝女儿。除此之外，还有一家人的宠物狗迪克和猫咪玛吉，他们一起在充满欢笑与冒险的生活中学习成长。\\n\\n这里有一个简单的故事示例：\\n\\n一天早晨，佩奇和她的小伙伴们计划一起去沼泽地探险，但他们的爸爸乔治却告诉他们沼泽地是危险的地方。虽然有些失望，但是佩奇和小伙伴们的热情并没有因此而减退，他们准备好了雨靴、防晒霜等装备，在爸爸妈妈的陪伴下开始了这次冒险之旅。\\n\\n在沼泽地里，佩奇帮助她的小伙伴们一起抓了许多有趣的昆虫，并且用树枝做了一个滑梯，大家一起享受着游戏的乐趣。当他们返回家的时候，每个人都带着满满的收获和愉快的心情回到了家，这一天对他们来说是既有趣又有意义的一天。\\n\\n小猪佩奇的故事总是充满了欢笑、友谊和家庭的温暖，每一集都讲述着孩子们成长中的小小冒险和快乐时光。这些故事教育孩子要勇敢、善良、坚持自己的梦想，并且珍惜与家人朋友共度的美好时光。'"
      ]
     },
     "execution_count": 2,
     "metadata": {},
     "output_type": "execute_result"
    }
   ],
   "source": [
    "llm(\"请告诉我关于小猪佩奇的故事\")"
   ]
  },
  {
   "cell_type": "code",
   "execution_count": null,
   "metadata": {
    "pycharm": {
     "name": "#%%\n"
    }
   },
   "outputs": [],
   "source": []
  }
 ],
 "metadata": {
  "kernelspec": {
   "display_name": "Test1",
   "language": "python",
   "name": "test1"
  },
  "language_info": {
   "codemirror_mode": {
    "name": "ipython",
    "version": 3
   },
   "file_extension": ".py",
   "mimetype": "text/x-python",
   "name": "python",
   "nbconvert_exporter": "python",
   "pygments_lexer": "ipython3",
   "version": "3.8.20"
  }
 },
 "nbformat": 4,
 "nbformat_minor": 4
}