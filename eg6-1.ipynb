{
 "cells": [
  {
   "cell_type": "code",
   "execution_count": null,
   "metadata": {
    "pycharm": {
     "is_executing": true,
     "name": "#%%\n"
    }
   },
   "outputs": [],
   "source": [
    "from langchain_openai import OpenAI\n",
    "from langchain.agents import load_tools\n",
    "from langchain.agents import AgentExecutor\n",
    "from langchain.agents.output_parsers import ReActSingleInputOutputParser\n",
    "from langchain.agents.format_scratchpad import format_log_to_str\n",
    "from langchain.tools.render import render_text_description\n",
    "from langchain import hub\n",
    "\n",
    "# 通过python-dotenv加载环境变量\n",
    "from dotenv import load_dotenv\n",
    "load_dotenv()\n",
    "\n",
    "# 准备大语言模型：这里需要使用OpenAI()，可以方便地按需停止推理\n",
    "llm = OpenAI()\n",
    "llm_with_stop = llm.bind(stop=[\"\\nObservation\"])\n",
    "\n",
    "# 准备工具：这里用到DuckDuckGo搜索引擎和一个基于LLM的计算器\n",
    "tools = load_tools(['ddg_search', 'llm-math'], llm=llm)\n",
    "\n",
    "# 准备核心提示词：这里从LangChain Hub加载了ReAct模式的提示词，并且填充工具的文本描述\n",
    "prompt = hub.pull('hwchase17/react')\n",
    "prompt = prompt.partial(\n",
    "    tools = render_text_description(tools),\n",
    "    tool_names = ', '.join([t.name for t in tools]),\n",
    ")\n",
    "\n",
    "# 构建Agent工作链：这里最重要的是，把中间步骤的结构保存到提示词的agent_scratchpad中\n",
    "agent = (\n",
    "    {\n",
    "        'input': lambda x: x['input'],\n",
    "        'agent_scratchpad': lambda x: format_log_to_str(x['intermediate_steps']),\n",
    "    }\n",
    "    | prompt\n",
    "    | llm_with_stop\n",
    "    | ReActSingleInputOutputParser\n",
    ")\n",
    "\n",
    "# 构建Agent执行器：执行器负责执行Agent工作链，直至得到最终答案（的标识）并输出回答\n",
    "agent_executor = AgentExecutor(agent=agent, tools=tools, verbose=True)\n",
    "agent_executor.invoke({'input': '今天哈尔滨和汉中的气温相差几摄氏度？'})"
   ]
  }
 ],
 "metadata": {
  "kernelspec": {
   "display_name": "Test1",
   "language": "python",
   "name": "test1"
  },
  "language_info": {
   "codemirror_mode": {
    "name": "ipython",
    "version": 3
   },
   "file_extension": ".py",
   "mimetype": "text/x-python",
   "name": "python",
   "nbconvert_exporter": "python",
   "pygments_lexer": "ipython3",
   "version": "3.8.20"
  }
 },
 "nbformat": 4,
 "nbformat_minor": 4
}
