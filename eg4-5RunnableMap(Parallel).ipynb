{
 "cells": [
  {
   "cell_type": "code",
   "execution_count": 1,
   "metadata": {
    "collapsed": false,
    "jupyter": {
     "outputs_hidden": false
    },
    "pycharm": {
     "is_executing": true,
     "name": "#%%\n"
    }
   },
   "outputs": [
    {
     "data": {
      "text/plain": [
       "{'joke': AIMessage(content=\"为什么小白兔不能当间谍呢？因为它们太容易被“兔”蒙了！（这里的“兔”是“露”的谐音，原句意为“ why can't rabbits be spies? Because they are too easy to be ‘bunny-hopped’!”）希望您会喜欢这句笑话！\", response_metadata={'model': 'qwen2.5', 'created_at': '2025-01-27T08:26:23.8512388Z', 'message': {'role': 'assistant', 'content': ''}, 'done_reason': 'stop', 'done': True, 'total_duration': 5224114600, 'load_duration': 27575300, 'prompt_eval_count': 36, 'prompt_eval_duration': 77000000, 'eval_count': 68, 'eval_duration': 3173000000}, id='run-29472656-bd25-4327-8bba-486ac0b4a4ea-0'),\n",
       " 'poem': AIMessage(content='雪白绒衣灵耳朵，  \\n跳跃林间采蘑菇。  \\n月光下梦香甜时，  \\n夜色中静卧草庐。', response_metadata={'model': 'qwen2.5', 'created_at': '2025-01-27T08:26:20.5991728Z', 'message': {'role': 'assistant', 'content': ''}, 'done_reason': 'stop', 'done': True, 'total_duration': 1973620100, 'load_duration': 20227100, 'prompt_eval_count': 37, 'prompt_eval_duration': 294000000, 'eval_count': 33, 'eval_duration': 1658000000}, id='run-a90e6f28-c4cb-4b1b-b5cc-a3a6385ff06d-0')}"
      ]
     },
     "execution_count": 1,
     "metadata": {},
     "output_type": "execute_result"
    }
   ],
   "source": [
    "from langchain_core.prompts import ChatPromptTemplate\n",
    "from langchain_core.runnables import RunnableParallel\n",
    "from langchain_community.chat_models import ChatOllama\n",
    "\n",
    "model = ChatOllama(model = 'qwen2.5')\n",
    "\n",
    "joke_chain = ChatPromptTemplate.from_template('讲一句关于{topic}的笑话') | model\n",
    "poem_chain = ChatPromptTemplate.from_template('写一首关于{topic}的短诗') | model\n",
    "\n",
    "# 通过RunnableParallel来并行执行两个调用链\n",
    "map_chain = RunnableParallel(joke = joke_chain, poem = poem_chain)\n",
    "map_chain.invoke({'topic': '小白兔'})"
   ]
  },
  {
   "cell_type": "code",
   "execution_count": null,
   "metadata": {
    "collapsed": false,
    "jupyter": {
     "outputs_hidden": false
    },
    "pycharm": {
     "name": "#%%\n"
    }
   },
   "outputs": [],
   "source": []
  }
 ],
 "metadata": {
  "kernelspec": {
   "display_name": "Test1",
   "language": "python",
   "name": "test1"
  },
  "language_info": {
   "codemirror_mode": {
    "name": "ipython",
    "version": 3
   },
   "file_extension": ".py",
   "mimetype": "text/x-python",
   "name": "python",
   "nbconvert_exporter": "python",
   "pygments_lexer": "ipython3",
   "version": "3.8.20"
  }
 },
 "nbformat": 4,
 "nbformat_minor": 4
}