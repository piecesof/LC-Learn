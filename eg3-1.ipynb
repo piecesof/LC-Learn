{
 "cells": [
  {
   "cell_type": "code",
   "execution_count": 1,
   "metadata": {
    "collapsed": false,
    "jupyter": {
     "outputs_hidden": false
    },
    "pycharm": {
     "is_executing": true,
     "name": "#%%\n"
    }
   },
   "outputs": [
    {
     "data": {
      "text/plain": [
       "'📚🌟 新书推荐《LangChain实战》来啦！🚀 LangChain不仅改变了我们构建AI应用的方式，还引领我们进入更加智能的未来世界！📝 这本书将带领大家深入探索LangChain的核心原理与实际案例，助你掌握最新技术趋势。🌈 抓紧时间加入这场技术盛宴吧！📖 #科技# #学习# 🤖✍️'"
      ]
     },
     "execution_count": 1,
     "metadata": {},
     "output_type": "execute_result"
    }
   ],
   "source": [
    "from langchain_core.prompts import ChatPromptTemplate\n",
    "from langchain_core.output_parsers import StrOutputParser\n",
    "from langchain_community.chat_models import ChatOllama\n",
    "\n",
    "# 设定系统上下文，构建提示词\n",
    "template = \"请扮演一位资深的技术博主，您将负责为用户生成适合在微博发布的中文文章。\" \\\n",
    "           \"请把用户输入的内容扩展成140个字左右的文章，并且添加适当的表情符号使内容引人入胜并体现专业性。\"\n",
    "prompt = ChatPromptTemplate.from_messages(\n",
    "    [(\"system\", template), (\"human\", \"{input}\")]\n",
    ")\n",
    "\n",
    "# 通过Ollama加载qwen2.5对话补全模型\n",
    "model = ChatOllama(model = \"qwen2.5\")\n",
    "\n",
    "# 通过LCEL构建调用链并执行，得到文本输出\n",
    "chain = prompt | model | StrOutputParser()\n",
    "chain.invoke(\n",
    "    {\"input\": \"给大家推荐一本新书《LangChain实战》，让我们一起开始学习LangChain吧！\"}\n",
    ")"
   ]
  },
  {
   "cell_type": "code",
   "execution_count": 2,
   "metadata": {
    "collapsed": false,
    "jupyter": {
     "outputs_hidden": false
    },
    "pycharm": {
     "name": "#%%\n"
    }
   },
   "outputs": [
    {
     "data": {
      "text/plain": [
       "'🔥动画界的温馨治愈之作，《小猪佩奇》✨不仅陪伴着无数小朋友的成长，也成为了家庭共赏的经典！🌈每一集都充满了亲子间欢笑与感动的瞬间，教会孩子们勇敢、善良和探索世界的好奇心。🌟快来和家人一起回顾那些温暖的故事吧！#小猪佩奇 #亲子时光'"
      ]
     },
     "execution_count": 2,
     "metadata": {},
     "output_type": "execute_result"
    }
   ],
   "source": [
    "chain.invoke(\n",
    "    {\"input\": \"给大家推荐一部动画片《小猪佩奇》\"}\n",
    ")"
   ]
  }
 ],
 "metadata": {
  "kernelspec": {
   "display_name": "Test1",
   "language": "python",
   "name": "test1"
  },
  "language_info": {
   "codemirror_mode": {
    "name": "ipython",
    "version": 3
   },
   "file_extension": ".py",
   "mimetype": "text/x-python",
   "name": "python",
   "nbconvert_exporter": "python",
   "pygments_lexer": "ipython3",
   "version": "3.8.20"
  }
 },
 "nbformat": 4,
 "nbformat_minor": 4
}
