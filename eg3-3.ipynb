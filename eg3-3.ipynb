{
 "cells": [
  {
   "cell_type": "code",
   "execution_count": 1,
   "metadata": {
    "collapsed": false,
    "jupyter": {
     "outputs_hidden": false
    },
    "pycharm": {
     "name": "#%%\n"
    }
   },
   "outputs": [
    {
     "data": {
      "text/plain": [
       "AIMessage(content='从前，在一片青翠的草地上，住着一只活泼的小白兔。一天，它迷路了，正当它害怕时，一群友好的动物伸出援手，帮助它回到了家。从此，小白兔学会了勇敢与感恩。', response_metadata={'model': 'qwen2.5', 'created_at': '2025-01-22T07:58:36.8739593Z', 'message': {'role': 'assistant', 'content': ''}, 'done_reason': 'stop', 'done': True, 'total_duration': 2358820200, 'load_duration': 16763800, 'prompt_eval_count': 46, 'prompt_eval_duration': 323000000, 'eval_count': 52, 'eval_duration': 2017000000}, id='run-527c26af-6bae-4f86-a712-798720dc2e10-0')"
      ]
     },
     "execution_count": 1,
     "metadata": {},
     "output_type": "execute_result"
    }
   ],
   "source": [
    "from langchain_core.prompts import ChatPromptTemplate\n",
    "from langchain_community.chat_models import ChatOllama\n",
    "\n",
    "prompt = ChatPromptTemplate.from_template(\"请编写一篇关于{topic}的中文小故事，不超过100个字\")\n",
    "model = ChatOllama(model = \"qwen2.5\")\n",
    "\n",
    "chain = prompt | model\n",
    "chain.invoke({\"topic\": \"小白兔\"})"
   ]
  }
 ],
 "metadata": {
  "kernelspec": {
   "display_name": "Test1",
   "language": "python",
   "name": "test1"
  },
  "language_info": {
   "codemirror_mode": {
    "name": "ipython",
    "version": 3
   },
   "file_extension": ".py",
   "mimetype": "text/x-python",
   "name": "python",
   "nbconvert_exporter": "python",
   "pygments_lexer": "ipython3",
   "version": "3.8.20"
  }
 },
 "nbformat": 4,
 "nbformat_minor": 4
}
